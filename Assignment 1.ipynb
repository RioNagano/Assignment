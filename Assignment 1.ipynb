{
 "cells": [
  {
   "cell_type": "markdown",
   "metadata": {},
   "source": [
    "Menurut saya, supervised learning system bisa diaplikasikan untuk data Singapore Airbnb"
   ]
  },
  {
   "cell_type": "code",
   "execution_count": 8,
   "metadata": {},
   "outputs": [
    {
     "name": "stdout",
     "output_type": "stream",
     "text": [
      "      id                               name  host_id  host_name  \\\n",
      "0  49091  COZICOMFORT LONG TERM STAY ROOM 2   266763  Francesca   \n",
      "\n",
      "  neighbourhood_group neighbourhood  latitude  longitude     room_type  price  \\\n",
      "0        North Region     Woodlands   1.44255   103.7958  Private room     83   \n",
      "\n",
      "   minimum_nights  number_of_reviews last_review  reviews_per_month  \\\n",
      "0             180                  1  10/21/2013               0.01   \n",
      "\n",
      "   calculated_host_listings_count  availability_365  \n",
      "0                               2               365  \n"
     ]
    }
   ],
   "source": [
    "import pandas as pd\n",
    "bnbData = pd.read_csv(\"listings.csv\")\n",
    "print(bnbData.head(1))"
   ]
  },
  {
   "cell_type": "markdown",
   "metadata": {},
   "source": [
    "Find minimum or maximum of a value"
   ]
  },
  {
   "cell_type": "code",
   "execution_count": 10,
   "metadata": {},
   "outputs": [
    {
     "name": "stdout",
     "output_type": "stream",
     "text": [
      "Min Price :  10000\n"
     ]
    }
   ],
   "source": [
    "minValue = bnbData.min()\n",
    "maxValue = bnbData.max()\n",
    "print(\"Min Price : \", maxValue[\"price\"])"
   ]
  },
  {
   "cell_type": "markdown",
   "metadata": {},
   "source": [
    "Eliminate null value"
   ]
  },
  {
   "cell_type": "code",
   "execution_count": 14,
   "metadata": {},
   "outputs": [
    {
     "name": "stdout",
     "output_type": "stream",
     "text": [
      "False\n",
      "5148\n"
     ]
    }
   ],
   "source": [
    "newBnbDataDrop = bnbData.dropna()\n",
    "print(newBnbDataDrop.isna().values.any())\n",
    "print(len(newBnbDataDrop))"
   ]
  },
  {
   "cell_type": "markdown",
   "metadata": {},
   "source": [
    "Replace null value to certain value"
   ]
  },
  {
   "cell_type": "code",
   "execution_count": 15,
   "metadata": {},
   "outputs": [
    {
     "name": "stdout",
     "output_type": "stream",
     "text": [
      "False\n",
      "7907\n"
     ]
    }
   ],
   "source": [
    "newBnbDataFill = bnbData.fillna(\"Value\")\n",
    "print(newBnbDataFill.isna().values.any())\n",
    "print(len(newBnbDataFill))"
   ]
  },
  {
   "cell_type": "code",
   "execution_count": null,
   "metadata": {},
   "outputs": [],
   "source": []
  }
 ],
 "metadata": {
  "kernelspec": {
   "display_name": "Python 3",
   "language": "python",
   "name": "python3"
  },
  "language_info": {
   "codemirror_mode": {
    "name": "ipython",
    "version": 3
   },
   "file_extension": ".py",
   "mimetype": "text/x-python",
   "name": "python",
   "nbconvert_exporter": "python",
   "pygments_lexer": "ipython3",
   "version": "3.7.4"
  }
 },
 "nbformat": 4,
 "nbformat_minor": 2
}
